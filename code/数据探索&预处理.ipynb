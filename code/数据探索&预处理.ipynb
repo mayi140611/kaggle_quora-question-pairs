{
 "cells": [
  {
   "cell_type": "code",
   "execution_count": 17,
   "metadata": {},
   "outputs": [],
   "source": [
    "import pandas as pd\n",
    "import pickle"
   ]
  },
  {
   "cell_type": "code",
   "execution_count": 3,
   "metadata": {},
   "outputs": [
    {
     "data": {
      "text/html": [
       "<div>\n",
       "<style scoped>\n",
       "    .dataframe tbody tr th:only-of-type {\n",
       "        vertical-align: middle;\n",
       "    }\n",
       "\n",
       "    .dataframe tbody tr th {\n",
       "        vertical-align: top;\n",
       "    }\n",
       "\n",
       "    .dataframe thead th {\n",
       "        text-align: right;\n",
       "    }\n",
       "</style>\n",
       "<table border=\"1\" class=\"dataframe\">\n",
       "  <thead>\n",
       "    <tr style=\"text-align: right;\">\n",
       "      <th></th>\n",
       "      <th>id</th>\n",
       "      <th>qid1</th>\n",
       "      <th>qid2</th>\n",
       "      <th>question1</th>\n",
       "      <th>question2</th>\n",
       "      <th>is_duplicate</th>\n",
       "    </tr>\n",
       "  </thead>\n",
       "  <tbody>\n",
       "    <tr>\n",
       "      <th>0</th>\n",
       "      <td>0</td>\n",
       "      <td>1</td>\n",
       "      <td>2</td>\n",
       "      <td>What is the step by step guide to invest in sh...</td>\n",
       "      <td>What is the step by step guide to invest in sh...</td>\n",
       "      <td>0</td>\n",
       "    </tr>\n",
       "    <tr>\n",
       "      <th>1</th>\n",
       "      <td>1</td>\n",
       "      <td>3</td>\n",
       "      <td>4</td>\n",
       "      <td>What is the story of Kohinoor (Koh-i-Noor) Dia...</td>\n",
       "      <td>What would happen if the Indian government sto...</td>\n",
       "      <td>0</td>\n",
       "    </tr>\n",
       "    <tr>\n",
       "      <th>2</th>\n",
       "      <td>2</td>\n",
       "      <td>5</td>\n",
       "      <td>6</td>\n",
       "      <td>How can I increase the speed of my internet co...</td>\n",
       "      <td>How can Internet speed be increased by hacking...</td>\n",
       "      <td>0</td>\n",
       "    </tr>\n",
       "    <tr>\n",
       "      <th>3</th>\n",
       "      <td>3</td>\n",
       "      <td>7</td>\n",
       "      <td>8</td>\n",
       "      <td>Why am I mentally very lonely? How can I solve...</td>\n",
       "      <td>Find the remainder when [math]23^{24}[/math] i...</td>\n",
       "      <td>0</td>\n",
       "    </tr>\n",
       "    <tr>\n",
       "      <th>4</th>\n",
       "      <td>4</td>\n",
       "      <td>9</td>\n",
       "      <td>10</td>\n",
       "      <td>Which one dissolve in water quikly sugar, salt...</td>\n",
       "      <td>Which fish would survive in salt water?</td>\n",
       "      <td>0</td>\n",
       "    </tr>\n",
       "  </tbody>\n",
       "</table>\n",
       "</div>"
      ],
      "text/plain": [
       "   id  qid1  qid2                                          question1  \\\n",
       "0   0     1     2  What is the step by step guide to invest in sh...   \n",
       "1   1     3     4  What is the story of Kohinoor (Koh-i-Noor) Dia...   \n",
       "2   2     5     6  How can I increase the speed of my internet co...   \n",
       "3   3     7     8  Why am I mentally very lonely? How can I solve...   \n",
       "4   4     9    10  Which one dissolve in water quikly sugar, salt...   \n",
       "\n",
       "                                           question2  is_duplicate  \n",
       "0  What is the step by step guide to invest in sh...             0  \n",
       "1  What would happen if the Indian government sto...             0  \n",
       "2  How can Internet speed be increased by hacking...             0  \n",
       "3  Find the remainder when [math]23^{24}[/math] i...             0  \n",
       "4            Which fish would survive in salt water?             0  "
      ]
     },
     "execution_count": 3,
     "metadata": {},
     "output_type": "execute_result"
    }
   ],
   "source": [
    "df = pd.read_csv('../data/train.csv')\n",
    "df.head()"
   ]
  },
  {
   "cell_type": "code",
   "execution_count": 4,
   "metadata": {},
   "outputs": [
    {
     "data": {
      "text/plain": [
       "(404290, 6)"
      ]
     },
     "execution_count": 4,
     "metadata": {},
     "output_type": "execute_result"
    }
   ],
   "source": [
    "df.shape"
   ]
  },
  {
   "cell_type": "code",
   "execution_count": 8,
   "metadata": {},
   "outputs": [
    {
     "name": "stdout",
     "output_type": "stream",
     "text": [
      "问题总数：537933个\n"
     ]
    }
   ],
   "source": [
    "all_questions = set(pd.unique(df['qid1'])) | set(pd.unique(df['qid2']))\n",
    "print('问题总数：{}个'.format(len(all_questions)))"
   ]
  },
  {
   "cell_type": "code",
   "execution_count": 18,
   "metadata": {},
   "outputs": [],
   "source": [
    "#问题编码字典\n",
    "q_dict = dict()\n",
    "for line in df.itertuples():\n",
    "    if line[2] not in q_dict:\n",
    "        q_dict[line[2]] = line[4]\n",
    "    if line[3] not in q_dict:\n",
    "        q_dict[line[3]] = line[5]\n",
    "len(q_dict)\n",
    "with open('q_dict.pkl','wb') as f:\n",
    "    pickle.dump(q_dict,f)"
   ]
  },
  {
   "cell_type": "code",
   "execution_count": 16,
   "metadata": {},
   "outputs": [
    {
     "name": "stdout",
     "output_type": "stream",
     "text": [
      "一共有64026组重复的问题\n",
      "{11264, 39426, 3595, 41484, 3596, 57359, 162836, 43544, 7707, 7708, 17456, 14926, 14927, 10321, 10322, 5715, 43605, 65109, 10329, 10330, 35931, 35932, 134237, 82022, 11373, 86522, 114804, 81027, 75917, 33427, 2711, 2712, 121509, 121510, 85165, 29357, 15547, 41669, 111301, 17100, 241356, 53467, 55530, 204524, 204525, 5358, 5359, 17135, 23803, 88319, 19200, 19199, 115459, 227601, 7445, 7446, 55061, 80153, 44317, 44318, 37175, 10562, 10563, 254281, 99661, 68431, 30554, 11263, 14695, 7016, 60263, 66410, 14696, 118125, 53632, 450453, 138134, 24473, 4506, 4507, 74655, 74656, 310176, 72620, 80301, 167858, 123836, 259519, 105925, 27082, 69079, 16346, 31712, 28132, 28133, 305640, 8685, 59385, 145914, 407036, 2559}\n"
     ]
    }
   ],
   "source": [
    "q_similar_dict = dict()\n",
    "index, count = 0, 0#统计最大的重复问题的字典索引和个数\n",
    "for line in df.itertuples():\n",
    "    if line[6] == 1:\n",
    "        flag = 0\n",
    "        for k,v in q_similar_dict.items():\n",
    "            if line[2] in v or line[3] in v:\n",
    "                v.add(line[2])\n",
    "                v.add(line[3])\n",
    "                if len(v)>count:\n",
    "                    count = len(v)\n",
    "                    index = k\n",
    "                flag = 1\n",
    "                break\n",
    "        if flag == 0:\n",
    "            q_similar_dict[len(q_similar_dict)] = set()\n",
    "            q_similar_dict[len(q_similar_dict)-1].add(line[2])\n",
    "            q_similar_dict[len(q_similar_dict)-1].add(line[3])\n",
    "                \n",
    "print('一共有{}组重复的问题'.format(len(q_similar_dict)))\n",
    "print(q_similar_dict[index])"
   ]
  },
  {
   "cell_type": "code",
   "execution_count": 19,
   "metadata": {},
   "outputs": [],
   "source": [
    "with open('q_similar_dict.pkl','wb') as f:\n",
    "    pickle.dump(q_similar_dict,f)"
   ]
  },
  {
   "cell_type": "code",
   "execution_count": 20,
   "metadata": {},
   "outputs": [
    {
     "data": {
      "text/plain": [
       "{74147, 74148}"
      ]
     },
     "execution_count": 20,
     "metadata": {},
     "output_type": "execute_result"
    }
   ],
   "source": [
    "q_similar_dict[11264]"
   ]
  },
  {
   "cell_type": "code",
   "execution_count": null,
   "metadata": {},
   "outputs": [],
   "source": []
  }
 ],
 "metadata": {
  "kernelspec": {
   "display_name": "Python 3",
   "language": "python",
   "name": "python3"
  },
  "language_info": {
   "codemirror_mode": {
    "name": "ipython",
    "version": 3
   },
   "file_extension": ".py",
   "mimetype": "text/x-python",
   "name": "python",
   "nbconvert_exporter": "python",
   "pygments_lexer": "ipython3",
   "version": "3.6.4"
  }
 },
 "nbformat": 4,
 "nbformat_minor": 2
}
